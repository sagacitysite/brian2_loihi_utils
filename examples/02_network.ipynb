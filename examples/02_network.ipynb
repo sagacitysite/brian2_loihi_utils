{
 "cells": [
  {
   "cell_type": "code",
   "execution_count": 1,
   "metadata": {
    "collapsed": false
   },
   "outputs": [
   ],
   "source": [
    "# Import modules\n",
    "import numpy as np\n",
    "import matplotlib.pyplot as plt\n",
    "from brian2_loihi import *"
   ]
  },
  {
   "cell_type": "code",
   "execution_count": 2,
   "metadata": {
    "collapsed": false
   },
   "outputs": [
   ],
   "source": [
    "\"\"\"\n",
    "Define some parameters\n",
    "\"\"\"\n",
    "\n",
    "runtime = 400\n",
    "n_ex = 400\n",
    "n_in = 100\n",
    "p_connectivity = 0.05\n",
    "n_noise_gens = 40"
   ]
  },
  {
   "cell_type": "code",
   "execution_count": 3,
   "metadata": {
    "collapsed": false
   },
   "outputs": [
   ],
   "source": [
    "\"\"\"\n",
    "Define excitatory and inhibitory neuron group\n",
    "\"\"\"\n",
    "\n",
    "# Excitatory neuron group\n",
    "group_ex = LoihiNeuronGroup(\n",
    "    400,\n",
    "    refractory=2,\n",
    "    threshold_v_mant=200,\n",
    "    decay_v=1024,\n",
    "    decay_I=2048\n",
    ")\n",
    "\n",
    "# Inhibitory neuron group\n",
    "group_in = LoihiNeuronGroup(\n",
    "    100,\n",
    "    refractory=2,\n",
    "    threshold_v_mant=200,\n",
    "    decay_v=1024,\n",
    "    decay_I=2048\n",
    ")"
   ]
  },
  {
   "cell_type": "code",
   "execution_count": 4,
   "metadata": {
    "collapsed": false
   },
   "outputs": [
   ],
   "source": [
    "\"\"\"\n",
    "Define input generators and spike times\n",
    "\"\"\"\n",
    "\n",
    "# Ranomdly generate spikes for noise generators\n",
    "rand = np.random.rand(n_noise_gens, runtime)\n",
    "\n",
    "# Define neuron indices and spike times\n",
    "neuron_indices, spike_times = np.where(rand < 0.05)\n",
    "\n",
    "# Define spike generators\n",
    "gen = LoihiSpikeGeneratorGroup(n_noise_gens, neuron_indices, spike_times)"
   ]
  },
  {
   "cell_type": "code",
   "execution_count": 5,
   "metadata": {
    "collapsed": false
   },
   "outputs": [
   ],
   "source": [
    "\"\"\"\n",
    "Define functions for drawing connections and lognormal weights\n",
    "\"\"\"\n",
    "\n",
    "def drawConnections(n_source, n_target, avoid_self=True):\n",
    "    # Draw random values\n",
    "    rand = np.random.rand(n_source, n_target)\n",
    "    # If avoid_self is true, remove diagonal\n",
    "    # But only apply if n_source = n_target\n",
    "    if (avoid_self and n_source == n_target):\n",
    "        np.fill_diagonal(rand, 1)\n",
    "\n",
    "    # Return sources and targets\n",
    "    return np.where(rand < p_connectivity)\n",
    "\n",
    "def drawWeights(sources):\n",
    "    # Get length of sources\n",
    "    n = len(sources)\n",
    "    # Distribution parameters according to Teramae, Tsubo & Fukai (2012)\n",
    "    m = np.log(0.2) + 1.0\n",
    "    s = 1.0\n",
    "    # Draw weight from lognormal distribution\n",
    "    weights = (np.random.lognormal(m, s, n)*(255/20.)).astype(int)\n",
    "\n",
    "    # Clip values to meet weight range\n",
    "    return np.clip(weights, 1, 255)"
   ]
  },
  {
   "cell_type": "code",
   "execution_count": 6,
   "metadata": {
    "collapsed": false
   },
   "outputs": [
   ],
   "source": [
    "\"\"\"\n",
    "Define synapses and connect reservoir\n",
    "\"\"\"\n",
    "\n",
    "# Connect spike generator to ex\n",
    "sources, targets = np.where(np.random.rand(n_noise_gens, n_ex) < 0.1)\n",
    "syn_gen = LoihiSynapses(gen, group_ex, sign_mode=synapse_sign_mode.EXCITATORY)\n",
    "syn_gen.connect(i=sources, j=targets)\n",
    "syn_gen.w = (np.random.rand(len(sources))*50).astype(int)\n",
    "\n",
    "# Connect ex ex\n",
    "sources, targets = drawConnections(n_ex, n_ex)\n",
    "syn_exex = LoihiSynapses(group_ex, group_ex, sign_mode=synapse_sign_mode.EXCITATORY)\n",
    "syn_exex.connect(i=sources, j=targets)\n",
    "syn_exex.w = drawWeights(sources)\n",
    "\n",
    "# Connect ex in\n",
    "sources, targets = drawConnections(n_ex, n_in)\n",
    "syn_exin = LoihiSynapses(group_ex, group_in, sign_mode=synapse_sign_mode.EXCITATORY)\n",
    "syn_exin.connect(i=sources, j=targets)\n",
    "syn_exin.w = drawWeights(sources)\n",
    "\n",
    "# Connect in ex\n",
    "sources, targets = drawConnections(n_in, n_ex)\n",
    "syn_inex = LoihiSynapses(group_in, group_ex, sign_mode=synapse_sign_mode.INHIBITORY)\n",
    "syn_inex.connect(i=sources, j=targets)\n",
    "syn_inex.w = -drawWeights(sources)\n",
    "\n",
    "# Connect in in\n",
    "sources, targets = drawConnections(n_in, n_in)\n",
    "syn_inin = LoihiSynapses(group_ex, group_in, sign_mode=synapse_sign_mode.INHIBITORY)\n",
    "syn_inin.connect(i=sources, j=targets)\n",
    "syn_inin.w = -drawWeights(sources)"
   ]
  },
  {
   "cell_type": "code",
   "execution_count": 7,
   "metadata": {
    "collapsed": false
   },
   "outputs": [
   ],
   "source": [
    "\"\"\"\n",
    "Define probes using spike monitors\n",
    "\"\"\"\n",
    "\n",
    "# Define spike monitors for excitatory neuron group\n",
    "mon_spike_ex = LoihiSpikeMonitor(group_ex)"
   ]
  },
  {
   "cell_type": "code",
   "execution_count": 8,
   "metadata": {
    "collapsed": false
   },
   "outputs": [
    {
     "name": "stdout",
     "output_type": "stream",
     "text": [
      "Starting simulation at t=0. s for a duration of 0.4 s\n"
     ]
    },
    {
     "name": "stdout",
     "output_type": "stream",
     "text": [
      "0.4 s (100%) simulated in < 1s\n"
     ]
    }
   ],
   "source": [
    "\"\"\"\n",
    "Define a network and perform simulation\n",
    "\"\"\"\n",
    "\n",
    "# NOTE: It is important to use the LoihiNetwork,\n",
    "#       using Brian's magic network is not provided\n",
    "net = LoihiNetwork(\n",
    "    group_ex,\n",
    "    group_in,\n",
    "    gen,\n",
    "    syn_gen,\n",
    "    syn_exex,\n",
    "    syn_exin,\n",
    "    syn_inex,\n",
    "    syn_inin,\n",
    "    mon_spike_ex\n",
    ")\n",
    "\n",
    "# Run the simulation\n",
    "net.run(runtime, report='text')"
   ]
  },
  {
   "cell_type": "code",
   "execution_count": 10,
   "metadata": {
    "collapsed": false,
    "scrolled": true
   },
   "outputs": [
    {
     "data": {
      "image/png": "[encoded data removed]",
      "text/plain": [
       "<Figure size 432x288 with 1 Axes>"
      ]
     },
     "execution_count": 10,
     "metadata": {
      "image/png": {
       "height": 277,
       "width": 390
      }
     },
     "output_type": "execute_result"
    }
   ],
   "source": [
    "\"\"\"\n",
    "Plot results\n",
    "\"\"\"\n",
    "\n",
    "# Spikes of excitatory neuron group\n",
    "plt.scatter(mon_spike_ex.t, mon_spike_ex.i)\n",
    "plt.title('Spike trains')\n",
    "plt.xlabel('time')\n",
    "plt.ylabel('# neuron')\n",
    "pl = plt.show()"
   ]
  }
 ],
 "metadata": {
  "kernelspec": {
   "display_name": "Python 3 (Ubuntu Linux)",
   "language": "python",
   "name": "python3"
  },
  "language_info": {
   "codemirror_mode": {
    "name": "ipython",
    "version": 3
   },
   "file_extension": ".py",
   "mimetype": "text/x-python",
   "name": "python",
   "nbconvert_exporter": "python",
   "pygments_lexer": "ipython3",
   "version": "3.6.9"
  }
 },
 "nbformat": 4,
 "nbformat_minor": 0
}